{
 "cells": [
  {
   "cell_type": "markdown",
   "id": "132d6887",
   "metadata": {
    "_cell_guid": "b1076dfc-b9ad-4769-8c92-a6c4dae69d19",
    "_uuid": "8f2839f25d086af736a60e9eeb907d3b93b6e0e5",
    "papermill": {
     "duration": 0.010012,
     "end_time": "2023-01-29T16:24:41.913023",
     "exception": false,
     "start_time": "2023-01-29T16:24:41.903011",
     "status": "completed"
    },
    "tags": []
   },
   "source": [
    "# Spam email filtering\n",
    "- In this project we will classify whether an email is spam or not.\n",
    "- This project is my assignment for the **Internship** at **Eziline Software**.\n",
    "\n",
    "## About Dataset\n",
    "- The Dataset consist 5172 randomly collected emails with 3001 common words for each email and one label colunm that tells spam or not.\n",
    "\n",
    "## About Task\n",
    "- The task is to find out which emails are spam and which emails are not.\n",
    "- The task falls under the umberalla of **supervised** machine learning since we have the labels for our emails."
   ]
  },
  {
   "cell_type": "markdown",
   "id": "6988e1c3",
   "metadata": {
    "papermill": {
     "duration": 0.008039,
     "end_time": "2023-01-29T16:24:41.929479",
     "exception": false,
     "start_time": "2023-01-29T16:24:41.921440",
     "status": "completed"
    },
    "tags": []
   },
   "source": [
    "# Importing libraries and loading dataset"
   ]
  },
  {
   "cell_type": "code",
   "execution_count": 1,
   "id": "dcfd4ba7",
   "metadata": {
    "execution": {
     "iopub.execute_input": "2023-01-29T16:24:41.948098Z",
     "iopub.status.busy": "2023-01-29T16:24:41.947637Z",
     "iopub.status.idle": "2023-01-29T16:24:44.303947Z",
     "shell.execute_reply": "2023-01-29T16:24:44.303032Z"
    },
    "papermill": {
     "duration": 2.368743,
     "end_time": "2023-01-29T16:24:44.306782",
     "exception": false,
     "start_time": "2023-01-29T16:24:41.938039",
     "status": "completed"
    },
    "tags": []
   },
   "outputs": [],
   "source": [
    "# Import required libraries\n",
    "import pandas as pd\n",
    "import matplotlib.pyplot as plt\n",
    "import seaborn as sns\n",
    "\n",
    "import nltk\n",
    "from nltk.corpus import stopwords\n",
    "\n",
    "from sklearn.model_selection import train_test_split\n",
    "\n",
    "from sklearn.naive_bayes import GaussianNB\n",
    "from sklearn.naive_bayes import MultinomialNB\n",
    "\n",
    "from sklearn.metrics import accuracy_score\n",
    "from sklearn.metrics import plot_confusion_matrix\n",
    "from sklearn.metrics import classification_report"
   ]
  },
  {
   "cell_type": "code",
   "execution_count": 2,
   "id": "aebf1f09",
   "metadata": {
    "execution": {
     "iopub.execute_input": "2023-01-29T16:24:44.325316Z",
     "iopub.status.busy": "2023-01-29T16:24:44.324909Z",
     "iopub.status.idle": "2023-01-29T16:24:46.297328Z",
     "shell.execute_reply": "2023-01-29T16:24:46.296210Z"
    },
    "papermill": {
     "duration": 1.984512,
     "end_time": "2023-01-29T16:24:46.300086",
     "exception": false,
     "start_time": "2023-01-29T16:24:44.315574",
     "status": "completed"
    },
    "tags": []
   },
   "outputs": [],
   "source": [
    "# Lets get data\n",
    "Dataset = pd.read_csv(\"/kaggle/input/email-spam-classification-dataset-csv/emails.csv\")"
   ]
  },
  {
   "cell_type": "markdown",
   "id": "3d528c31",
   "metadata": {
    "papermill": {
     "duration": 0.009185,
     "end_time": "2023-01-29T16:24:46.318021",
     "exception": false,
     "start_time": "2023-01-29T16:24:46.308836",
     "status": "completed"
    },
    "tags": []
   },
   "source": [
    "# Understanding the Data"
   ]
  },
  {
   "cell_type": "code",
   "execution_count": 3,
   "id": "5c39ebdc",
   "metadata": {
    "execution": {
     "iopub.execute_input": "2023-01-29T16:24:46.336185Z",
     "iopub.status.busy": "2023-01-29T16:24:46.335787Z",
     "iopub.status.idle": "2023-01-29T16:24:46.476981Z",
     "shell.execute_reply": "2023-01-29T16:24:46.475721Z"
    },
    "papermill": {
     "duration": 0.153284,
     "end_time": "2023-01-29T16:24:46.479686",
     "exception": false,
     "start_time": "2023-01-29T16:24:46.326402",
     "status": "completed"
    },
    "tags": []
   },
   "outputs": [
    {
     "name": "stdout",
     "output_type": "stream",
     "text": [
      "<class 'pandas.core.frame.DataFrame'>\n",
      "RangeIndex: 5172 entries, 0 to 5171\n",
      "Columns: 3002 entries, Email No. to Prediction\n",
      "dtypes: int64(3001), object(1)\n",
      "memory usage: 118.5+ MB\n"
     ]
    }
   ],
   "source": [
    "# Lets see the dataset\n",
    "Dataset.info()"
   ]
  },
  {
   "cell_type": "code",
   "execution_count": 4,
   "id": "35fb1a8e",
   "metadata": {
    "execution": {
     "iopub.execute_input": "2023-01-29T16:24:46.498080Z",
     "iopub.status.busy": "2023-01-29T16:24:46.497705Z",
     "iopub.status.idle": "2023-01-29T16:24:46.522741Z",
     "shell.execute_reply": "2023-01-29T16:24:46.521711Z"
    },
    "papermill": {
     "duration": 0.036752,
     "end_time": "2023-01-29T16:24:46.525159",
     "exception": false,
     "start_time": "2023-01-29T16:24:46.488407",
     "status": "completed"
    },
    "tags": []
   },
   "outputs": [
    {
     "data": {
      "text/html": [
       "<div>\n",
       "<style scoped>\n",
       "    .dataframe tbody tr th:only-of-type {\n",
       "        vertical-align: middle;\n",
       "    }\n",
       "\n",
       "    .dataframe tbody tr th {\n",
       "        vertical-align: top;\n",
       "    }\n",
       "\n",
       "    .dataframe thead th {\n",
       "        text-align: right;\n",
       "    }\n",
       "</style>\n",
       "<table border=\"1\" class=\"dataframe\">\n",
       "  <thead>\n",
       "    <tr style=\"text-align: right;\">\n",
       "      <th></th>\n",
       "      <th>Email No.</th>\n",
       "      <th>the</th>\n",
       "      <th>to</th>\n",
       "      <th>ect</th>\n",
       "      <th>and</th>\n",
       "      <th>for</th>\n",
       "      <th>of</th>\n",
       "      <th>a</th>\n",
       "      <th>you</th>\n",
       "      <th>hou</th>\n",
       "      <th>...</th>\n",
       "      <th>connevey</th>\n",
       "      <th>jay</th>\n",
       "      <th>valued</th>\n",
       "      <th>lay</th>\n",
       "      <th>infrastructure</th>\n",
       "      <th>military</th>\n",
       "      <th>allowing</th>\n",
       "      <th>ff</th>\n",
       "      <th>dry</th>\n",
       "      <th>Prediction</th>\n",
       "    </tr>\n",
       "  </thead>\n",
       "  <tbody>\n",
       "    <tr>\n",
       "      <th>5162</th>\n",
       "      <td>Email 5163</td>\n",
       "      <td>2</td>\n",
       "      <td>3</td>\n",
       "      <td>1</td>\n",
       "      <td>2</td>\n",
       "      <td>1</td>\n",
       "      <td>2</td>\n",
       "      <td>32</td>\n",
       "      <td>0</td>\n",
       "      <td>0</td>\n",
       "      <td>...</td>\n",
       "      <td>0</td>\n",
       "      <td>0</td>\n",
       "      <td>0</td>\n",
       "      <td>0</td>\n",
       "      <td>0</td>\n",
       "      <td>0</td>\n",
       "      <td>0</td>\n",
       "      <td>0</td>\n",
       "      <td>0</td>\n",
       "      <td>1</td>\n",
       "    </tr>\n",
       "    <tr>\n",
       "      <th>5163</th>\n",
       "      <td>Email 5164</td>\n",
       "      <td>0</td>\n",
       "      <td>0</td>\n",
       "      <td>1</td>\n",
       "      <td>0</td>\n",
       "      <td>0</td>\n",
       "      <td>0</td>\n",
       "      <td>1</td>\n",
       "      <td>0</td>\n",
       "      <td>0</td>\n",
       "      <td>...</td>\n",
       "      <td>0</td>\n",
       "      <td>0</td>\n",
       "      <td>0</td>\n",
       "      <td>0</td>\n",
       "      <td>0</td>\n",
       "      <td>0</td>\n",
       "      <td>0</td>\n",
       "      <td>0</td>\n",
       "      <td>0</td>\n",
       "      <td>1</td>\n",
       "    </tr>\n",
       "    <tr>\n",
       "      <th>5164</th>\n",
       "      <td>Email 5165</td>\n",
       "      <td>21</td>\n",
       "      <td>18</td>\n",
       "      <td>3</td>\n",
       "      <td>1</td>\n",
       "      <td>6</td>\n",
       "      <td>4</td>\n",
       "      <td>106</td>\n",
       "      <td>1</td>\n",
       "      <td>2</td>\n",
       "      <td>...</td>\n",
       "      <td>0</td>\n",
       "      <td>0</td>\n",
       "      <td>0</td>\n",
       "      <td>0</td>\n",
       "      <td>0</td>\n",
       "      <td>0</td>\n",
       "      <td>0</td>\n",
       "      <td>0</td>\n",
       "      <td>0</td>\n",
       "      <td>0</td>\n",
       "    </tr>\n",
       "    <tr>\n",
       "      <th>5165</th>\n",
       "      <td>Email 5166</td>\n",
       "      <td>1</td>\n",
       "      <td>0</td>\n",
       "      <td>1</td>\n",
       "      <td>0</td>\n",
       "      <td>3</td>\n",
       "      <td>1</td>\n",
       "      <td>12</td>\n",
       "      <td>1</td>\n",
       "      <td>0</td>\n",
       "      <td>...</td>\n",
       "      <td>0</td>\n",
       "      <td>0</td>\n",
       "      <td>0</td>\n",
       "      <td>1</td>\n",
       "      <td>0</td>\n",
       "      <td>0</td>\n",
       "      <td>0</td>\n",
       "      <td>0</td>\n",
       "      <td>0</td>\n",
       "      <td>0</td>\n",
       "    </tr>\n",
       "    <tr>\n",
       "      <th>5166</th>\n",
       "      <td>Email 5167</td>\n",
       "      <td>1</td>\n",
       "      <td>0</td>\n",
       "      <td>1</td>\n",
       "      <td>1</td>\n",
       "      <td>0</td>\n",
       "      <td>0</td>\n",
       "      <td>4</td>\n",
       "      <td>0</td>\n",
       "      <td>0</td>\n",
       "      <td>...</td>\n",
       "      <td>0</td>\n",
       "      <td>0</td>\n",
       "      <td>0</td>\n",
       "      <td>0</td>\n",
       "      <td>0</td>\n",
       "      <td>0</td>\n",
       "      <td>0</td>\n",
       "      <td>0</td>\n",
       "      <td>0</td>\n",
       "      <td>1</td>\n",
       "    </tr>\n",
       "    <tr>\n",
       "      <th>5167</th>\n",
       "      <td>Email 5168</td>\n",
       "      <td>2</td>\n",
       "      <td>2</td>\n",
       "      <td>2</td>\n",
       "      <td>3</td>\n",
       "      <td>0</td>\n",
       "      <td>0</td>\n",
       "      <td>32</td>\n",
       "      <td>0</td>\n",
       "      <td>0</td>\n",
       "      <td>...</td>\n",
       "      <td>0</td>\n",
       "      <td>0</td>\n",
       "      <td>0</td>\n",
       "      <td>0</td>\n",
       "      <td>0</td>\n",
       "      <td>0</td>\n",
       "      <td>0</td>\n",
       "      <td>0</td>\n",
       "      <td>0</td>\n",
       "      <td>0</td>\n",
       "    </tr>\n",
       "    <tr>\n",
       "      <th>5168</th>\n",
       "      <td>Email 5169</td>\n",
       "      <td>35</td>\n",
       "      <td>27</td>\n",
       "      <td>11</td>\n",
       "      <td>2</td>\n",
       "      <td>6</td>\n",
       "      <td>5</td>\n",
       "      <td>151</td>\n",
       "      <td>4</td>\n",
       "      <td>3</td>\n",
       "      <td>...</td>\n",
       "      <td>0</td>\n",
       "      <td>0</td>\n",
       "      <td>0</td>\n",
       "      <td>0</td>\n",
       "      <td>0</td>\n",
       "      <td>0</td>\n",
       "      <td>0</td>\n",
       "      <td>1</td>\n",
       "      <td>0</td>\n",
       "      <td>0</td>\n",
       "    </tr>\n",
       "    <tr>\n",
       "      <th>5169</th>\n",
       "      <td>Email 5170</td>\n",
       "      <td>0</td>\n",
       "      <td>0</td>\n",
       "      <td>1</td>\n",
       "      <td>1</td>\n",
       "      <td>0</td>\n",
       "      <td>0</td>\n",
       "      <td>11</td>\n",
       "      <td>0</td>\n",
       "      <td>0</td>\n",
       "      <td>...</td>\n",
       "      <td>0</td>\n",
       "      <td>0</td>\n",
       "      <td>0</td>\n",
       "      <td>0</td>\n",
       "      <td>0</td>\n",
       "      <td>0</td>\n",
       "      <td>0</td>\n",
       "      <td>0</td>\n",
       "      <td>0</td>\n",
       "      <td>1</td>\n",
       "    </tr>\n",
       "    <tr>\n",
       "      <th>5170</th>\n",
       "      <td>Email 5171</td>\n",
       "      <td>2</td>\n",
       "      <td>7</td>\n",
       "      <td>1</td>\n",
       "      <td>0</td>\n",
       "      <td>2</td>\n",
       "      <td>1</td>\n",
       "      <td>28</td>\n",
       "      <td>2</td>\n",
       "      <td>0</td>\n",
       "      <td>...</td>\n",
       "      <td>0</td>\n",
       "      <td>0</td>\n",
       "      <td>0</td>\n",
       "      <td>0</td>\n",
       "      <td>0</td>\n",
       "      <td>0</td>\n",
       "      <td>0</td>\n",
       "      <td>1</td>\n",
       "      <td>0</td>\n",
       "      <td>1</td>\n",
       "    </tr>\n",
       "    <tr>\n",
       "      <th>5171</th>\n",
       "      <td>Email 5172</td>\n",
       "      <td>22</td>\n",
       "      <td>24</td>\n",
       "      <td>5</td>\n",
       "      <td>1</td>\n",
       "      <td>6</td>\n",
       "      <td>5</td>\n",
       "      <td>148</td>\n",
       "      <td>8</td>\n",
       "      <td>2</td>\n",
       "      <td>...</td>\n",
       "      <td>0</td>\n",
       "      <td>0</td>\n",
       "      <td>0</td>\n",
       "      <td>0</td>\n",
       "      <td>0</td>\n",
       "      <td>0</td>\n",
       "      <td>0</td>\n",
       "      <td>0</td>\n",
       "      <td>0</td>\n",
       "      <td>0</td>\n",
       "    </tr>\n",
       "  </tbody>\n",
       "</table>\n",
       "<p>10 rows × 3002 columns</p>\n",
       "</div>"
      ],
      "text/plain": [
       "       Email No.  the  to  ect  and  for  of    a  you  hou  ...  connevey  \\\n",
       "5162  Email 5163    2   3    1    2    1   2   32    0    0  ...         0   \n",
       "5163  Email 5164    0   0    1    0    0   0    1    0    0  ...         0   \n",
       "5164  Email 5165   21  18    3    1    6   4  106    1    2  ...         0   \n",
       "5165  Email 5166    1   0    1    0    3   1   12    1    0  ...         0   \n",
       "5166  Email 5167    1   0    1    1    0   0    4    0    0  ...         0   \n",
       "5167  Email 5168    2   2    2    3    0   0   32    0    0  ...         0   \n",
       "5168  Email 5169   35  27   11    2    6   5  151    4    3  ...         0   \n",
       "5169  Email 5170    0   0    1    1    0   0   11    0    0  ...         0   \n",
       "5170  Email 5171    2   7    1    0    2   1   28    2    0  ...         0   \n",
       "5171  Email 5172   22  24    5    1    6   5  148    8    2  ...         0   \n",
       "\n",
       "      jay  valued  lay  infrastructure  military  allowing  ff  dry  \\\n",
       "5162    0       0    0               0         0         0   0    0   \n",
       "5163    0       0    0               0         0         0   0    0   \n",
       "5164    0       0    0               0         0         0   0    0   \n",
       "5165    0       0    1               0         0         0   0    0   \n",
       "5166    0       0    0               0         0         0   0    0   \n",
       "5167    0       0    0               0         0         0   0    0   \n",
       "5168    0       0    0               0         0         0   1    0   \n",
       "5169    0       0    0               0         0         0   0    0   \n",
       "5170    0       0    0               0         0         0   1    0   \n",
       "5171    0       0    0               0         0         0   0    0   \n",
       "\n",
       "      Prediction  \n",
       "5162           1  \n",
       "5163           1  \n",
       "5164           0  \n",
       "5165           0  \n",
       "5166           1  \n",
       "5167           0  \n",
       "5168           0  \n",
       "5169           1  \n",
       "5170           1  \n",
       "5171           0  \n",
       "\n",
       "[10 rows x 3002 columns]"
      ]
     },
     "execution_count": 4,
     "metadata": {},
     "output_type": "execute_result"
    }
   ],
   "source": [
    "#Dataset.head()\n",
    "Dataset.tail(10)"
   ]
  },
  {
   "cell_type": "code",
   "execution_count": 5,
   "id": "eb5a0352",
   "metadata": {
    "execution": {
     "iopub.execute_input": "2023-01-29T16:24:46.545310Z",
     "iopub.status.busy": "2023-01-29T16:24:46.544968Z",
     "iopub.status.idle": "2023-01-29T16:24:46.895597Z",
     "shell.execute_reply": "2023-01-29T16:24:46.894381Z"
    },
    "papermill": {
     "duration": 0.363025,
     "end_time": "2023-01-29T16:24:46.898278",
     "exception": false,
     "start_time": "2023-01-29T16:24:46.535253",
     "status": "completed"
    },
    "tags": []
   },
   "outputs": [
    {
     "data": {
      "text/plain": [
       "(array([3672.,    0.,    0.,    0.,    0.,    0.,    0.,    0.,    0.,\n",
       "        1500.]),\n",
       " array([0. , 0.1, 0.2, 0.3, 0.4, 0.5, 0.6, 0.7, 0.8, 0.9, 1. ]),\n",
       " <BarContainer object of 10 artists>)"
      ]
     },
     "execution_count": 5,
     "metadata": {},
     "output_type": "execute_result"
    },
    {
     "data": {
      "image/png": "[encoded data removed]",
      "text/plain": [
       "<Figure size 432x288 with 1 Axes>"
      ]
     },
     "metadata": {
      "needs_background": "light"
     },
     "output_type": "display_data"
    }
   ],
   "source": [
    "# Number of spam and ham emails\n",
    "plt.hist(Dataset.Prediction)"
   ]
  },
  {
   "cell_type": "markdown",
   "id": "cd652070",
   "metadata": {
    "papermill": {
     "duration": 0.010832,
     "end_time": "2023-01-29T16:24:46.919024",
     "exception": false,
     "start_time": "2023-01-29T16:24:46.908192",
     "status": "completed"
    },
    "tags": []
   },
   "source": [
    "# About Dataset\n",
    "After initial analysis, let's Talk about data:\n",
    "1. Our dataset has 5172 sample emails. Amoung these 5172 emails 1500 emails are Spam\n",
    "2. The dataset is **moderatly** imbalanced since we have only 30% of data as positive cases.\n",
    "3. Our dataset has 3001 features\n",
    "4. There are also stopwords given as features and these colunms with stopwords need to be droped. (**Feature selection**)"
   ]
  },
  {
   "cell_type": "markdown",
   "id": "e23cba17",
   "metadata": {
    "papermill": {
     "duration": 0.009322,
     "end_time": "2023-01-29T16:24:46.937881",
     "exception": false,
     "start_time": "2023-01-29T16:24:46.928559",
     "status": "completed"
    },
    "tags": []
   },
   "source": [
    "# Data Cleaning (EDA Step 1)\n",
    "1. Handling Duplicate values\n",
    "2. Handling Null values\n",
    "3. Handling any outliers\n",
    "4. We will skip any structural error (Typo, spelling,...)"
   ]
  },
  {
   "cell_type": "code",
   "execution_count": 6,
   "id": "c84fe7d9",
   "metadata": {
    "execution": {
     "iopub.execute_input": "2023-01-29T16:24:46.958948Z",
     "iopub.status.busy": "2023-01-29T16:24:46.958565Z",
     "iopub.status.idle": "2023-01-29T16:24:47.368327Z",
     "shell.execute_reply": "2023-01-29T16:24:47.367229Z"
    },
    "papermill": {
     "duration": 0.423193,
     "end_time": "2023-01-29T16:24:47.370490",
     "exception": false,
     "start_time": "2023-01-29T16:24:46.947297",
     "status": "completed"
    },
    "tags": []
   },
   "outputs": [
    {
     "data": {
      "text/plain": [
       "0"
      ]
     },
     "execution_count": 6,
     "metadata": {},
     "output_type": "execute_result"
    }
   ],
   "source": [
    "# Handling Duplicates\n",
    "Dataset.duplicated().sum()"
   ]
  },
  {
   "cell_type": "code",
   "execution_count": 7,
   "id": "3188baba",
   "metadata": {
    "execution": {
     "iopub.execute_input": "2023-01-29T16:24:47.390351Z",
     "iopub.status.busy": "2023-01-29T16:24:47.390004Z",
     "iopub.status.idle": "2023-01-29T16:25:18.679318Z",
     "shell.execute_reply": "2023-01-29T16:25:18.678198Z"
    },
    "papermill": {
     "duration": 31.311518,
     "end_time": "2023-01-29T16:25:18.691367",
     "exception": false,
     "start_time": "2023-01-29T16:24:47.379849",
     "status": "completed"
    },
    "tags": []
   },
   "outputs": [
    {
     "data": {
      "text/plain": [
       "<AxesSubplot:>"
      ]
     },
     "execution_count": 7,
     "metadata": {},
     "output_type": "execute_result"
    },
    {
     "data": {
      "image/png": "[encoded data removed]",
      "text/plain": [
       "<Figure size 432x288 with 1 Axes>"
      ]
     },
     "metadata": {
      "needs_background": "light"
     },
     "output_type": "display_data"
    }
   ],
   "source": [
    "# Handling Null Values\n",
    "Dataset.isnull().sum().plot.bar()"
   ]
  },
  {
   "cell_type": "markdown",
   "id": "47fc2ae6",
   "metadata": {
    "papermill": {
     "duration": 0.009996,
     "end_time": "2023-01-29T16:25:18.711051",
     "exception": false,
     "start_time": "2023-01-29T16:25:18.701055",
     "status": "completed"
    },
    "tags": []
   },
   "source": [
    "# Data Preprocessing (EDA Step 2)\n",
    "1. Transformation\n",
    "    1. Identify and drop Stop words\n",
    "    2. Downsample the majority class' samples to balance dataset\n",
    "2. Normalization or Standardization of Data\n",
    "3. Encodings (If needed)"
   ]
  },
  {
   "cell_type": "code",
   "execution_count": 8,
   "id": "d89a6b69",
   "metadata": {
    "execution": {
     "iopub.execute_input": "2023-01-29T16:25:18.732859Z",
     "iopub.status.busy": "2023-01-29T16:25:18.732332Z",
     "iopub.status.idle": "2023-01-29T16:25:18.819196Z",
     "shell.execute_reply": "2023-01-29T16:25:18.817592Z"
    },
    "papermill": {
     "duration": 0.100886,
     "end_time": "2023-01-29T16:25:18.821957",
     "exception": false,
     "start_time": "2023-01-29T16:25:18.721071",
     "status": "completed"
    },
    "tags": []
   },
   "outputs": [
    {
     "name": "stderr",
     "output_type": "stream",
     "text": [
      "[nltk_data] Downloading package stopwords to /usr/share/nltk_data...\n",
      "[nltk_data]   Package stopwords is already up-to-date!\n"
     ]
    },
    {
     "data": {
      "text/plain": [
       "True"
      ]
     },
     "execution_count": 8,
     "metadata": {},
     "output_type": "execute_result"
    }
   ],
   "source": [
    "# Identify and drop stop words\n",
    "nltk.download('stopwords')"
   ]
  },
  {
   "cell_type": "code",
   "execution_count": 9,
   "id": "475a5b8a",
   "metadata": {
    "execution": {
     "iopub.execute_input": "2023-01-29T16:25:18.843569Z",
     "iopub.status.busy": "2023-01-29T16:25:18.843224Z",
     "iopub.status.idle": "2023-01-29T16:25:18.853243Z",
     "shell.execute_reply": "2023-01-29T16:25:18.852366Z"
    },
    "papermill": {
     "duration": 0.023009,
     "end_time": "2023-01-29T16:25:18.855323",
     "exception": false,
     "start_time": "2023-01-29T16:25:18.832314",
     "status": "completed"
    },
    "tags": []
   },
   "outputs": [
    {
     "data": {
      "text/plain": [
       "Index(['the', 'to', 'and', 'for', 'of', 'a', 'you', 'in', 'on', 'is',\n",
       "       ...\n",
       "       'nor', 'myself', 'isn', 'haven', 'whom', 'couldn', 'wasn', 'itself',\n",
       "       'ma', 'aren'],\n",
       "      dtype='object', length=134)"
      ]
     },
     "execution_count": 9,
     "metadata": {},
     "output_type": "execute_result"
    }
   ],
   "source": [
    "is_a_stopword = Dataset.columns.isin(stopwords.words('english'))\n",
    "Dataset.columns[is_a_stopword]"
   ]
  },
  {
   "cell_type": "code",
   "execution_count": 10,
   "id": "1b2ff64a",
   "metadata": {
    "execution": {
     "iopub.execute_input": "2023-01-29T16:25:18.877121Z",
     "iopub.status.busy": "2023-01-29T16:25:18.876436Z",
     "iopub.status.idle": "2023-01-29T16:25:18.991940Z",
     "shell.execute_reply": "2023-01-29T16:25:18.990683Z"
    },
    "papermill": {
     "duration": 0.128966,
     "end_time": "2023-01-29T16:25:18.994300",
     "exception": false,
     "start_time": "2023-01-29T16:25:18.865334",
     "status": "completed"
    },
    "tags": []
   },
   "outputs": [
    {
     "data": {
      "text/plain": [
       "(5172, 2868)"
      ]
     },
     "execution_count": 10,
     "metadata": {},
     "output_type": "execute_result"
    }
   ],
   "source": [
    "# Droping stopwords\n",
    "New_Data = Dataset.loc[:, ~is_a_stopword].copy()\n",
    "New_Data.shape"
   ]
  },
  {
   "cell_type": "code",
   "execution_count": 11,
   "id": "4bba992d",
   "metadata": {
    "execution": {
     "iopub.execute_input": "2023-01-29T16:25:19.017824Z",
     "iopub.status.busy": "2023-01-29T16:25:19.017272Z",
     "iopub.status.idle": "2023-01-29T16:25:19.096508Z",
     "shell.execute_reply": "2023-01-29T16:25:19.095413Z"
    },
    "papermill": {
     "duration": 0.093856,
     "end_time": "2023-01-29T16:25:19.099071",
     "exception": false,
     "start_time": "2023-01-29T16:25:19.005215",
     "status": "completed"
    },
    "tags": []
   },
   "outputs": [],
   "source": [
    "Ham = New_Data.loc[New_Data['Prediction'] == 0]\n",
    "Spam = New_Data.loc[New_Data['Prediction'] == 1]"
   ]
  },
  {
   "cell_type": "code",
   "execution_count": 12,
   "id": "4028b592",
   "metadata": {
    "execution": {
     "iopub.execute_input": "2023-01-29T16:25:19.122072Z",
     "iopub.status.busy": "2023-01-29T16:25:19.121638Z",
     "iopub.status.idle": "2023-01-29T16:25:19.128715Z",
     "shell.execute_reply": "2023-01-29T16:25:19.127720Z"
    },
    "papermill": {
     "duration": 0.021509,
     "end_time": "2023-01-29T16:25:19.131101",
     "exception": false,
     "start_time": "2023-01-29T16:25:19.109592",
     "status": "completed"
    },
    "tags": []
   },
   "outputs": [
    {
     "data": {
      "text/plain": [
       "((1500, 2868), (3672, 2868))"
      ]
     },
     "execution_count": 12,
     "metadata": {},
     "output_type": "execute_result"
    }
   ],
   "source": [
    "Spam.shape, Ham.shape"
   ]
  },
  {
   "cell_type": "code",
   "execution_count": 13,
   "id": "3e235a4e",
   "metadata": {
    "execution": {
     "iopub.execute_input": "2023-01-29T16:25:19.153338Z",
     "iopub.status.busy": "2023-01-29T16:25:19.152735Z",
     "iopub.status.idle": "2023-01-29T16:25:19.199837Z",
     "shell.execute_reply": "2023-01-29T16:25:19.198614Z"
    },
    "papermill": {
     "duration": 0.06084,
     "end_time": "2023-01-29T16:25:19.202207",
     "exception": false,
     "start_time": "2023-01-29T16:25:19.141367",
     "status": "completed"
    },
    "tags": []
   },
   "outputs": [
    {
     "data": {
      "text/plain": [
       "(2472, 2868)"
      ]
     },
     "execution_count": 13,
     "metadata": {},
     "output_type": "execute_result"
    }
   ],
   "source": [
    "N_Ham = Ham.drop(Ham.index[0:1200])\n",
    "N_Ham.shape"
   ]
  },
  {
   "cell_type": "code",
   "execution_count": 14,
   "id": "815bfff3",
   "metadata": {
    "execution": {
     "iopub.execute_input": "2023-01-29T16:25:19.224786Z",
     "iopub.status.busy": "2023-01-29T16:25:19.224216Z",
     "iopub.status.idle": "2023-01-29T16:25:19.270922Z",
     "shell.execute_reply": "2023-01-29T16:25:19.270097Z"
    },
    "papermill": {
     "duration": 0.060655,
     "end_time": "2023-01-29T16:25:19.273336",
     "exception": false,
     "start_time": "2023-01-29T16:25:19.212681",
     "status": "completed"
    },
    "tags": []
   },
   "outputs": [],
   "source": [
    "Model_Data = Spam.append(N_Ham)"
   ]
  },
  {
   "cell_type": "code",
   "execution_count": 15,
   "id": "1e5b9b5b",
   "metadata": {
    "execution": {
     "iopub.execute_input": "2023-01-29T16:25:19.297533Z",
     "iopub.status.busy": "2023-01-29T16:25:19.297206Z",
     "iopub.status.idle": "2023-01-29T16:25:19.303226Z",
     "shell.execute_reply": "2023-01-29T16:25:19.302234Z"
    },
    "papermill": {
     "duration": 0.019588,
     "end_time": "2023-01-29T16:25:19.305385",
     "exception": false,
     "start_time": "2023-01-29T16:25:19.285797",
     "status": "completed"
    },
    "tags": []
   },
   "outputs": [
    {
     "data": {
      "text/plain": [
       "(3972, 2868)"
      ]
     },
     "execution_count": 15,
     "metadata": {},
     "output_type": "execute_result"
    }
   ],
   "source": [
    "Model_Data.shape"
   ]
  },
  {
   "cell_type": "code",
   "execution_count": 16,
   "id": "a151ddf5",
   "metadata": {
    "execution": {
     "iopub.execute_input": "2023-01-29T16:25:19.328595Z",
     "iopub.status.busy": "2023-01-29T16:25:19.328263Z",
     "iopub.status.idle": "2023-01-29T16:25:19.526157Z",
     "shell.execute_reply": "2023-01-29T16:25:19.525090Z"
    },
    "papermill": {
     "duration": 0.212151,
     "end_time": "2023-01-29T16:25:19.528536",
     "exception": false,
     "start_time": "2023-01-29T16:25:19.316385",
     "status": "completed"
    },
    "tags": []
   },
   "outputs": [
    {
     "data": {
      "text/plain": [
       "(array([2472.,    0.,    0.,    0.,    0.,    0.,    0.,    0.,    0.,\n",
       "        1500.]),\n",
       " array([0. , 0.1, 0.2, 0.3, 0.4, 0.5, 0.6, 0.7, 0.8, 0.9, 1. ]),\n",
       " <BarContainer object of 10 artists>)"
      ]
     },
     "execution_count": 16,
     "metadata": {},
     "output_type": "execute_result"
    },
    {
     "data": {
      "image/png": "[encoded data removed]",
      "text/plain": [
       "<Figure size 432x288 with 1 Axes>"
      ]
     },
     "metadata": {
      "needs_background": "light"
     },
     "output_type": "display_data"
    }
   ],
   "source": [
    "# Number of spam and ham emails\n",
    "plt.hist(Model_Data.Prediction)"
   ]
  },
  {
   "cell_type": "code",
   "execution_count": 17,
   "id": "3f6c817e",
   "metadata": {
    "execution": {
     "iopub.execute_input": "2023-01-29T16:25:19.551779Z",
     "iopub.status.busy": "2023-01-29T16:25:19.551433Z",
     "iopub.status.idle": "2023-01-29T16:25:19.610430Z",
     "shell.execute_reply": "2023-01-29T16:25:19.609415Z"
    },
    "papermill": {
     "duration": 0.073468,
     "end_time": "2023-01-29T16:25:19.612959",
     "exception": false,
     "start_time": "2023-01-29T16:25:19.539491",
     "status": "completed"
    },
    "tags": []
   },
   "outputs": [
    {
     "data": {
      "text/html": [
       "<div>\n",
       "<style scoped>\n",
       "    .dataframe tbody tr th:only-of-type {\n",
       "        vertical-align: middle;\n",
       "    }\n",
       "\n",
       "    .dataframe tbody tr th {\n",
       "        vertical-align: top;\n",
       "    }\n",
       "\n",
       "    .dataframe thead th {\n",
       "        text-align: right;\n",
       "    }\n",
       "</style>\n",
       "<table border=\"1\" class=\"dataframe\">\n",
       "  <thead>\n",
       "    <tr style=\"text-align: right;\">\n",
       "      <th></th>\n",
       "      <th>ect</th>\n",
       "      <th>hou</th>\n",
       "      <th>enron</th>\n",
       "      <th>com</th>\n",
       "      <th>gas</th>\n",
       "      <th>deal</th>\n",
       "      <th>meter</th>\n",
       "      <th>hpl</th>\n",
       "      <th>please</th>\n",
       "      <th>e</th>\n",
       "      <th>...</th>\n",
       "      <th>connevey</th>\n",
       "      <th>jay</th>\n",
       "      <th>valued</th>\n",
       "      <th>lay</th>\n",
       "      <th>infrastructure</th>\n",
       "      <th>military</th>\n",
       "      <th>allowing</th>\n",
       "      <th>ff</th>\n",
       "      <th>dry</th>\n",
       "      <th>Prediction</th>\n",
       "    </tr>\n",
       "  </thead>\n",
       "  <tbody>\n",
       "    <tr>\n",
       "      <th>5</th>\n",
       "      <td>1</td>\n",
       "      <td>0</td>\n",
       "      <td>0</td>\n",
       "      <td>1</td>\n",
       "      <td>0</td>\n",
       "      <td>0</td>\n",
       "      <td>0</td>\n",
       "      <td>0</td>\n",
       "      <td>0</td>\n",
       "      <td>112</td>\n",
       "      <td>...</td>\n",
       "      <td>0</td>\n",
       "      <td>0</td>\n",
       "      <td>0</td>\n",
       "      <td>0</td>\n",
       "      <td>0</td>\n",
       "      <td>0</td>\n",
       "      <td>0</td>\n",
       "      <td>0</td>\n",
       "      <td>0</td>\n",
       "      <td>1</td>\n",
       "    </tr>\n",
       "    <tr>\n",
       "      <th>7</th>\n",
       "      <td>2</td>\n",
       "      <td>0</td>\n",
       "      <td>0</td>\n",
       "      <td>0</td>\n",
       "      <td>0</td>\n",
       "      <td>0</td>\n",
       "      <td>0</td>\n",
       "      <td>0</td>\n",
       "      <td>1</td>\n",
       "      <td>34</td>\n",
       "      <td>...</td>\n",
       "      <td>0</td>\n",
       "      <td>0</td>\n",
       "      <td>0</td>\n",
       "      <td>0</td>\n",
       "      <td>0</td>\n",
       "      <td>0</td>\n",
       "      <td>0</td>\n",
       "      <td>1</td>\n",
       "      <td>0</td>\n",
       "      <td>1</td>\n",
       "    </tr>\n",
       "    <tr>\n",
       "      <th>16</th>\n",
       "      <td>2</td>\n",
       "      <td>0</td>\n",
       "      <td>0</td>\n",
       "      <td>0</td>\n",
       "      <td>0</td>\n",
       "      <td>0</td>\n",
       "      <td>0</td>\n",
       "      <td>0</td>\n",
       "      <td>0</td>\n",
       "      <td>20</td>\n",
       "      <td>...</td>\n",
       "      <td>0</td>\n",
       "      <td>0</td>\n",
       "      <td>0</td>\n",
       "      <td>0</td>\n",
       "      <td>0</td>\n",
       "      <td>0</td>\n",
       "      <td>0</td>\n",
       "      <td>1</td>\n",
       "      <td>0</td>\n",
       "      <td>1</td>\n",
       "    </tr>\n",
       "    <tr>\n",
       "      <th>17</th>\n",
       "      <td>6</td>\n",
       "      <td>5</td>\n",
       "      <td>0</td>\n",
       "      <td>7</td>\n",
       "      <td>0</td>\n",
       "      <td>0</td>\n",
       "      <td>0</td>\n",
       "      <td>0</td>\n",
       "      <td>1</td>\n",
       "      <td>291</td>\n",
       "      <td>...</td>\n",
       "      <td>0</td>\n",
       "      <td>0</td>\n",
       "      <td>0</td>\n",
       "      <td>0</td>\n",
       "      <td>0</td>\n",
       "      <td>0</td>\n",
       "      <td>0</td>\n",
       "      <td>3</td>\n",
       "      <td>0</td>\n",
       "      <td>1</td>\n",
       "    </tr>\n",
       "    <tr>\n",
       "      <th>25</th>\n",
       "      <td>2</td>\n",
       "      <td>2</td>\n",
       "      <td>0</td>\n",
       "      <td>5</td>\n",
       "      <td>0</td>\n",
       "      <td>1</td>\n",
       "      <td>0</td>\n",
       "      <td>0</td>\n",
       "      <td>1</td>\n",
       "      <td>265</td>\n",
       "      <td>...</td>\n",
       "      <td>0</td>\n",
       "      <td>0</td>\n",
       "      <td>0</td>\n",
       "      <td>0</td>\n",
       "      <td>0</td>\n",
       "      <td>0</td>\n",
       "      <td>0</td>\n",
       "      <td>6</td>\n",
       "      <td>0</td>\n",
       "      <td>1</td>\n",
       "    </tr>\n",
       "    <tr>\n",
       "      <th>...</th>\n",
       "      <td>...</td>\n",
       "      <td>...</td>\n",
       "      <td>...</td>\n",
       "      <td>...</td>\n",
       "      <td>...</td>\n",
       "      <td>...</td>\n",
       "      <td>...</td>\n",
       "      <td>...</td>\n",
       "      <td>...</td>\n",
       "      <td>...</td>\n",
       "      <td>...</td>\n",
       "      <td>...</td>\n",
       "      <td>...</td>\n",
       "      <td>...</td>\n",
       "      <td>...</td>\n",
       "      <td>...</td>\n",
       "      <td>...</td>\n",
       "      <td>...</td>\n",
       "      <td>...</td>\n",
       "      <td>...</td>\n",
       "      <td>...</td>\n",
       "    </tr>\n",
       "    <tr>\n",
       "      <th>5164</th>\n",
       "      <td>3</td>\n",
       "      <td>2</td>\n",
       "      <td>1</td>\n",
       "      <td>1</td>\n",
       "      <td>5</td>\n",
       "      <td>0</td>\n",
       "      <td>0</td>\n",
       "      <td>0</td>\n",
       "      <td>1</td>\n",
       "      <td>145</td>\n",
       "      <td>...</td>\n",
       "      <td>0</td>\n",
       "      <td>0</td>\n",
       "      <td>0</td>\n",
       "      <td>0</td>\n",
       "      <td>0</td>\n",
       "      <td>0</td>\n",
       "      <td>0</td>\n",
       "      <td>0</td>\n",
       "      <td>0</td>\n",
       "      <td>0</td>\n",
       "    </tr>\n",
       "    <tr>\n",
       "      <th>5165</th>\n",
       "      <td>1</td>\n",
       "      <td>0</td>\n",
       "      <td>0</td>\n",
       "      <td>0</td>\n",
       "      <td>0</td>\n",
       "      <td>0</td>\n",
       "      <td>0</td>\n",
       "      <td>0</td>\n",
       "      <td>0</td>\n",
       "      <td>13</td>\n",
       "      <td>...</td>\n",
       "      <td>0</td>\n",
       "      <td>0</td>\n",
       "      <td>0</td>\n",
       "      <td>1</td>\n",
       "      <td>0</td>\n",
       "      <td>0</td>\n",
       "      <td>0</td>\n",
       "      <td>0</td>\n",
       "      <td>0</td>\n",
       "      <td>0</td>\n",
       "    </tr>\n",
       "    <tr>\n",
       "      <th>5167</th>\n",
       "      <td>2</td>\n",
       "      <td>0</td>\n",
       "      <td>0</td>\n",
       "      <td>0</td>\n",
       "      <td>0</td>\n",
       "      <td>0</td>\n",
       "      <td>0</td>\n",
       "      <td>0</td>\n",
       "      <td>0</td>\n",
       "      <td>29</td>\n",
       "      <td>...</td>\n",
       "      <td>0</td>\n",
       "      <td>0</td>\n",
       "      <td>0</td>\n",
       "      <td>0</td>\n",
       "      <td>0</td>\n",
       "      <td>0</td>\n",
       "      <td>0</td>\n",
       "      <td>0</td>\n",
       "      <td>0</td>\n",
       "      <td>0</td>\n",
       "    </tr>\n",
       "    <tr>\n",
       "      <th>5168</th>\n",
       "      <td>11</td>\n",
       "      <td>3</td>\n",
       "      <td>1</td>\n",
       "      <td>3</td>\n",
       "      <td>5</td>\n",
       "      <td>0</td>\n",
       "      <td>0</td>\n",
       "      <td>0</td>\n",
       "      <td>1</td>\n",
       "      <td>218</td>\n",
       "      <td>...</td>\n",
       "      <td>0</td>\n",
       "      <td>0</td>\n",
       "      <td>0</td>\n",
       "      <td>0</td>\n",
       "      <td>0</td>\n",
       "      <td>0</td>\n",
       "      <td>0</td>\n",
       "      <td>1</td>\n",
       "      <td>0</td>\n",
       "      <td>0</td>\n",
       "    </tr>\n",
       "    <tr>\n",
       "      <th>5171</th>\n",
       "      <td>5</td>\n",
       "      <td>2</td>\n",
       "      <td>1</td>\n",
       "      <td>1</td>\n",
       "      <td>5</td>\n",
       "      <td>0</td>\n",
       "      <td>0</td>\n",
       "      <td>0</td>\n",
       "      <td>1</td>\n",
       "      <td>191</td>\n",
       "      <td>...</td>\n",
       "      <td>0</td>\n",
       "      <td>0</td>\n",
       "      <td>0</td>\n",
       "      <td>0</td>\n",
       "      <td>0</td>\n",
       "      <td>0</td>\n",
       "      <td>0</td>\n",
       "      <td>0</td>\n",
       "      <td>0</td>\n",
       "      <td>0</td>\n",
       "    </tr>\n",
       "  </tbody>\n",
       "</table>\n",
       "<p>3972 rows × 2867 columns</p>\n",
       "</div>"
      ],
      "text/plain": [
       "      ect  hou  enron  com  gas  deal  meter  hpl  please    e  ...  connevey  \\\n",
       "5       1    0      0    1    0     0      0    0       0  112  ...         0   \n",
       "7       2    0      0    0    0     0      0    0       1   34  ...         0   \n",
       "16      2    0      0    0    0     0      0    0       0   20  ...         0   \n",
       "17      6    5      0    7    0     0      0    0       1  291  ...         0   \n",
       "25      2    2      0    5    0     1      0    0       1  265  ...         0   \n",
       "...   ...  ...    ...  ...  ...   ...    ...  ...     ...  ...  ...       ...   \n",
       "5164    3    2      1    1    5     0      0    0       1  145  ...         0   \n",
       "5165    1    0      0    0    0     0      0    0       0   13  ...         0   \n",
       "5167    2    0      0    0    0     0      0    0       0   29  ...         0   \n",
       "5168   11    3      1    3    5     0      0    0       1  218  ...         0   \n",
       "5171    5    2      1    1    5     0      0    0       1  191  ...         0   \n",
       "\n",
       "      jay  valued  lay  infrastructure  military  allowing  ff  dry  \\\n",
       "5       0       0    0               0         0         0   0    0   \n",
       "7       0       0    0               0         0         0   1    0   \n",
       "16      0       0    0               0         0         0   1    0   \n",
       "17      0       0    0               0         0         0   3    0   \n",
       "25      0       0    0               0         0         0   6    0   \n",
       "...   ...     ...  ...             ...       ...       ...  ..  ...   \n",
       "5164    0       0    0               0         0         0   0    0   \n",
       "5165    0       0    1               0         0         0   0    0   \n",
       "5167    0       0    0               0         0         0   0    0   \n",
       "5168    0       0    0               0         0         0   1    0   \n",
       "5171    0       0    0               0         0         0   0    0   \n",
       "\n",
       "      Prediction  \n",
       "5              1  \n",
       "7              1  \n",
       "16             1  \n",
       "17             1  \n",
       "25             1  \n",
       "...          ...  \n",
       "5164           0  \n",
       "5165           0  \n",
       "5167           0  \n",
       "5168           0  \n",
       "5171           0  \n",
       "\n",
       "[3972 rows x 2867 columns]"
      ]
     },
     "execution_count": 17,
     "metadata": {},
     "output_type": "execute_result"
    }
   ],
   "source": [
    "# Droping Email colunm\n",
    "Model_Data.drop(\"Email No.\", axis='columns')"
   ]
  },
  {
   "cell_type": "markdown",
   "id": "7d4e752f",
   "metadata": {
    "papermill": {
     "duration": 0.010997,
     "end_time": "2023-01-29T16:25:19.635463",
     "exception": false,
     "start_time": "2023-01-29T16:25:19.624466",
     "status": "completed"
    },
    "tags": []
   },
   "source": [
    "# Preparing Dataset for ML modeling"
   ]
  },
  {
   "cell_type": "code",
   "execution_count": 18,
   "id": "79a305ff",
   "metadata": {
    "execution": {
     "iopub.execute_input": "2023-01-29T16:25:19.659688Z",
     "iopub.status.busy": "2023-01-29T16:25:19.659346Z",
     "iopub.status.idle": "2023-01-29T16:25:19.702574Z",
     "shell.execute_reply": "2023-01-29T16:25:19.701766Z"
    },
    "papermill": {
     "duration": 0.057891,
     "end_time": "2023-01-29T16:25:19.704526",
     "exception": false,
     "start_time": "2023-01-29T16:25:19.646635",
     "status": "completed"
    },
    "tags": []
   },
   "outputs": [
    {
     "data": {
      "text/plain": [
       "((3972,), (3972, 2866))"
      ]
     },
     "execution_count": 18,
     "metadata": {},
     "output_type": "execute_result"
    }
   ],
   "source": [
    "Labels = Model_Data.Prediction\n",
    "Samples = Model_Data.drop([\"Prediction\", \"Email No.\"], axis='columns')\n",
    "Labels.shape, Samples.shape"
   ]
  },
  {
   "cell_type": "code",
   "execution_count": 19,
   "id": "48943493",
   "metadata": {
    "execution": {
     "iopub.execute_input": "2023-01-29T16:25:19.729244Z",
     "iopub.status.busy": "2023-01-29T16:25:19.728220Z",
     "iopub.status.idle": "2023-01-29T16:25:19.820466Z",
     "shell.execute_reply": "2023-01-29T16:25:19.819235Z"
    },
    "papermill": {
     "duration": 0.106552,
     "end_time": "2023-01-29T16:25:19.822619",
     "exception": false,
     "start_time": "2023-01-29T16:25:19.716067",
     "status": "completed"
    },
    "tags": []
   },
   "outputs": [
    {
     "data": {
      "text/plain": [
       "((2979, 2866), (993, 2866), (2979,), (993,))"
      ]
     },
     "execution_count": 19,
     "metadata": {},
     "output_type": "execute_result"
    }
   ],
   "source": [
    "# Train and validation split\n",
    "X_Tr, X_Test, Y_Tr, Y_Test= train_test_split(Samples, Labels, test_size=0.25, shuffle=True)\n",
    "X_Tr.shape, X_Test.shape, Y_Tr.shape, Y_Test.shape"
   ]
  },
  {
   "cell_type": "markdown",
   "id": "adebcb54",
   "metadata": {
    "papermill": {
     "duration": 0.011103,
     "end_time": "2023-01-29T16:25:19.845420",
     "exception": false,
     "start_time": "2023-01-29T16:25:19.834317",
     "status": "completed"
    },
    "tags": []
   },
   "source": [
    "# Model Training"
   ]
  },
  {
   "cell_type": "code",
   "execution_count": 20,
   "id": "729623ee",
   "metadata": {
    "execution": {
     "iopub.execute_input": "2023-01-29T16:25:19.869316Z",
     "iopub.status.busy": "2023-01-29T16:25:19.868947Z",
     "iopub.status.idle": "2023-01-29T16:25:19.873416Z",
     "shell.execute_reply": "2023-01-29T16:25:19.872387Z"
    },
    "papermill": {
     "duration": 0.019103,
     "end_time": "2023-01-29T16:25:19.875651",
     "exception": false,
     "start_time": "2023-01-29T16:25:19.856548",
     "status": "completed"
    },
    "tags": []
   },
   "outputs": [],
   "source": [
    "# Importing models\n",
    "MNB = MultinomialNB()\n",
    "GNB = GaussianNB()"
   ]
  },
  {
   "cell_type": "code",
   "execution_count": 21,
   "id": "93c0df50",
   "metadata": {
    "execution": {
     "iopub.execute_input": "2023-01-29T16:25:19.899109Z",
     "iopub.status.busy": "2023-01-29T16:25:19.898775Z",
     "iopub.status.idle": "2023-01-29T16:25:20.098525Z",
     "shell.execute_reply": "2023-01-29T16:25:20.097714Z"
    },
    "papermill": {
     "duration": 0.213682,
     "end_time": "2023-01-29T16:25:20.100466",
     "exception": false,
     "start_time": "2023-01-29T16:25:19.886784",
     "status": "completed"
    },
    "tags": []
   },
   "outputs": [
    {
     "data": {
      "text/plain": [
       "GaussianNB()"
      ]
     },
     "execution_count": 21,
     "metadata": {},
     "output_type": "execute_result"
    }
   ],
   "source": [
    "# Training both models on training data\n",
    "GNB.fit(X_Tr, Y_Tr)"
   ]
  },
  {
   "cell_type": "code",
   "execution_count": 22,
   "id": "a21d4861",
   "metadata": {
    "execution": {
     "iopub.execute_input": "2023-01-29T16:25:20.124619Z",
     "iopub.status.busy": "2023-01-29T16:25:20.124229Z",
     "iopub.status.idle": "2023-01-29T16:25:20.185824Z",
     "shell.execute_reply": "2023-01-29T16:25:20.184909Z"
    },
    "papermill": {
     "duration": 0.076237,
     "end_time": "2023-01-29T16:25:20.188227",
     "exception": false,
     "start_time": "2023-01-29T16:25:20.111990",
     "status": "completed"
    },
    "tags": []
   },
   "outputs": [
    {
     "data": {
      "text/plain": [
       "MultinomialNB()"
      ]
     },
     "execution_count": 22,
     "metadata": {},
     "output_type": "execute_result"
    }
   ],
   "source": [
    "MNB.fit(X_Tr, Y_Tr)"
   ]
  },
  {
   "cell_type": "code",
   "execution_count": 23,
   "id": "4141aa94",
   "metadata": {
    "execution": {
     "iopub.execute_input": "2023-01-29T16:25:20.213096Z",
     "iopub.status.busy": "2023-01-29T16:25:20.212245Z",
     "iopub.status.idle": "2023-01-29T16:25:20.384535Z",
     "shell.execute_reply": "2023-01-29T16:25:20.383706Z"
    },
    "papermill": {
     "duration": 0.186841,
     "end_time": "2023-01-29T16:25:20.386574",
     "exception": false,
     "start_time": "2023-01-29T16:25:20.199733",
     "status": "completed"
    },
    "tags": []
   },
   "outputs": [
    {
     "data": {
      "text/plain": [
       "0.9724739845585767"
      ]
     },
     "execution_count": 23,
     "metadata": {},
     "output_type": "execute_result"
    }
   ],
   "source": [
    "GNB.score(X_Tr, Y_Tr)"
   ]
  },
  {
   "cell_type": "code",
   "execution_count": 24,
   "id": "8a6bacbb",
   "metadata": {
    "execution": {
     "iopub.execute_input": "2023-01-29T16:25:20.412067Z",
     "iopub.status.busy": "2023-01-29T16:25:20.410965Z",
     "iopub.status.idle": "2023-01-29T16:25:20.502756Z",
     "shell.execute_reply": "2023-01-29T16:25:20.501322Z"
    },
    "papermill": {
     "duration": 0.108798,
     "end_time": "2023-01-29T16:25:20.507130",
     "exception": false,
     "start_time": "2023-01-29T16:25:20.398332",
     "status": "completed"
    },
    "tags": []
   },
   "outputs": [
    {
     "data": {
      "text/plain": [
       "0.9429338704263176"
      ]
     },
     "execution_count": 24,
     "metadata": {},
     "output_type": "execute_result"
    }
   ],
   "source": [
    "MNB.score(X_Tr, Y_Tr)"
   ]
  },
  {
   "cell_type": "markdown",
   "id": "85d32c44",
   "metadata": {
    "papermill": {
     "duration": 0.029388,
     "end_time": "2023-01-29T16:25:20.567585",
     "exception": false,
     "start_time": "2023-01-29T16:25:20.538197",
     "status": "completed"
    },
    "tags": []
   },
   "source": [
    "# Model Testing"
   ]
  },
  {
   "cell_type": "code",
   "execution_count": 25,
   "id": "d4fe0e4e",
   "metadata": {
    "execution": {
     "iopub.execute_input": "2023-01-29T16:25:20.620255Z",
     "iopub.status.busy": "2023-01-29T16:25:20.619862Z",
     "iopub.status.idle": "2023-01-29T16:25:20.784459Z",
     "shell.execute_reply": "2023-01-29T16:25:20.782822Z"
    },
    "papermill": {
     "duration": 0.189508,
     "end_time": "2023-01-29T16:25:20.787227",
     "exception": false,
     "start_time": "2023-01-29T16:25:20.597719",
     "status": "completed"
    },
    "tags": []
   },
   "outputs": [],
   "source": [
    "MNBPredict = MNB.predict(X_Test)\n",
    "GNBPredict = GNB.predict(X_Test)"
   ]
  },
  {
   "cell_type": "markdown",
   "id": "4762c45b",
   "metadata": {
    "papermill": {
     "duration": 0.011513,
     "end_time": "2023-01-29T16:25:20.810648",
     "exception": false,
     "start_time": "2023-01-29T16:25:20.799135",
     "status": "completed"
    },
    "tags": []
   },
   "source": [
    "# Accuracy, Confusion Matrix and Classification Report"
   ]
  },
  {
   "cell_type": "code",
   "execution_count": 26,
   "id": "7b1a25f4",
   "metadata": {
    "execution": {
     "iopub.execute_input": "2023-01-29T16:25:20.835635Z",
     "iopub.status.busy": "2023-01-29T16:25:20.835058Z",
     "iopub.status.idle": "2023-01-29T16:25:20.842288Z",
     "shell.execute_reply": "2023-01-29T16:25:20.840964Z"
    },
    "papermill": {
     "duration": 0.022911,
     "end_time": "2023-01-29T16:25:20.845117",
     "exception": false,
     "start_time": "2023-01-29T16:25:20.822206",
     "status": "completed"
    },
    "tags": []
   },
   "outputs": [
    {
     "name": "stdout",
     "output_type": "stream",
     "text": [
      "MNB Model accuracy score: 0.9456\n",
      "GNB Model accuracy score: 0.9607\n"
     ]
    }
   ],
   "source": [
    "# Accuracy for both models\n",
    "print('MNB Model accuracy score: {0:0.4f}'. format(accuracy_score(Y_Test, MNBPredict)))\n",
    "print('GNB Model accuracy score: {0:0.4f}'. format(accuracy_score(Y_Test, GNBPredict)))"
   ]
  },
  {
   "cell_type": "code",
   "execution_count": 27,
   "id": "9d96a6b2",
   "metadata": {
    "execution": {
     "iopub.execute_input": "2023-01-29T16:25:20.871010Z",
     "iopub.status.busy": "2023-01-29T16:25:20.870085Z",
     "iopub.status.idle": "2023-01-29T16:25:21.135157Z",
     "shell.execute_reply": "2023-01-29T16:25:21.133770Z"
    },
    "papermill": {
     "duration": 0.280022,
     "end_time": "2023-01-29T16:25:21.137576",
     "exception": false,
     "start_time": "2023-01-29T16:25:20.857554",
     "status": "completed"
    },
    "tags": []
   },
   "outputs": [
    {
     "name": "stderr",
     "output_type": "stream",
     "text": [
      "/opt/conda/lib/python3.7/site-packages/sklearn/utils/deprecation.py:87: FutureWarning: Function plot_confusion_matrix is deprecated; Function `plot_confusion_matrix` is deprecated in 1.0 and will be removed in 1.2. Use one of the class methods: ConfusionMatrixDisplay.from_predictions or ConfusionMatrixDisplay.from_estimator.\n",
      "  warnings.warn(msg, category=FutureWarning)\n"
     ]
    },
    {
     "data": {
      "text/plain": [
       "<sklearn.metrics._plot.confusion_matrix.ConfusionMatrixDisplay at 0x7ff5d16f4950>"
      ]
     },
     "execution_count": 27,
     "metadata": {},
     "output_type": "execute_result"
    },
    {
     "data": {
      "image/png": "[encoded data removed]",
      "text/plain": [
       "<Figure size 432x288 with 2 Axes>"
      ]
     },
     "metadata": {
      "needs_background": "light"
     },
     "output_type": "display_data"
    }
   ],
   "source": [
    "# Confusion Matrix\n",
    "plot_confusion_matrix(GNB, X_Test, Y_Test)"
   ]
  },
  {
   "cell_type": "code",
   "execution_count": 28,
   "id": "6dfc4e63",
   "metadata": {
    "execution": {
     "iopub.execute_input": "2023-01-29T16:25:21.164220Z",
     "iopub.status.busy": "2023-01-29T16:25:21.163859Z",
     "iopub.status.idle": "2023-01-29T16:25:21.410790Z",
     "shell.execute_reply": "2023-01-29T16:25:21.409615Z"
    },
    "papermill": {
     "duration": 0.263925,
     "end_time": "2023-01-29T16:25:21.414506",
     "exception": false,
     "start_time": "2023-01-29T16:25:21.150581",
     "status": "completed"
    },
    "tags": []
   },
   "outputs": [
    {
     "name": "stderr",
     "output_type": "stream",
     "text": [
      "/opt/conda/lib/python3.7/site-packages/sklearn/utils/deprecation.py:87: FutureWarning: Function plot_confusion_matrix is deprecated; Function `plot_confusion_matrix` is deprecated in 1.0 and will be removed in 1.2. Use one of the class methods: ConfusionMatrixDisplay.from_predictions or ConfusionMatrixDisplay.from_estimator.\n",
      "  warnings.warn(msg, category=FutureWarning)\n"
     ]
    },
    {
     "data": {
      "text/plain": [
       "<sklearn.metrics._plot.confusion_matrix.ConfusionMatrixDisplay at 0x7ff5d1635d50>"
      ]
     },
     "execution_count": 28,
     "metadata": {},
     "output_type": "execute_result"
    },
    {
     "data": {
      "image/png": "[encoded data removed]",
      "text/plain": [
       "<Figure size 432x288 with 2 Axes>"
      ]
     },
     "metadata": {
      "needs_background": "light"
     },
     "output_type": "display_data"
    }
   ],
   "source": [
    "plot_confusion_matrix(MNB, X_Test, Y_Test)"
   ]
  },
  {
   "cell_type": "code",
   "execution_count": 29,
   "id": "2140982f",
   "metadata": {
    "execution": {
     "iopub.execute_input": "2023-01-29T16:25:21.441771Z",
     "iopub.status.busy": "2023-01-29T16:25:21.440987Z",
     "iopub.status.idle": "2023-01-29T16:25:21.451685Z",
     "shell.execute_reply": "2023-01-29T16:25:21.450391Z"
    },
    "papermill": {
     "duration": 0.026362,
     "end_time": "2023-01-29T16:25:21.453924",
     "exception": false,
     "start_time": "2023-01-29T16:25:21.427562",
     "status": "completed"
    },
    "tags": []
   },
   "outputs": [
    {
     "name": "stdout",
     "output_type": "stream",
     "text": [
      "              precision    recall  f1-score   support\n",
      "\n",
      "           0       0.95      0.98      0.97       580\n",
      "           1       0.97      0.93      0.95       413\n",
      "\n",
      "    accuracy                           0.96       993\n",
      "   macro avg       0.96      0.96      0.96       993\n",
      "weighted avg       0.96      0.96      0.96       993\n",
      "\n"
     ]
    }
   ],
   "source": [
    "# Classification report\n",
    "print(classification_report(GNBPredict,Y_Test))"
   ]
  },
  {
   "cell_type": "code",
   "execution_count": 30,
   "id": "1c57c08d",
   "metadata": {
    "execution": {
     "iopub.execute_input": "2023-01-29T16:25:21.480593Z",
     "iopub.status.busy": "2023-01-29T16:25:21.480013Z",
     "iopub.status.idle": "2023-01-29T16:25:21.490338Z",
     "shell.execute_reply": "2023-01-29T16:25:21.489309Z"
    },
    "papermill": {
     "duration": 0.026852,
     "end_time": "2023-01-29T16:25:21.493298",
     "exception": false,
     "start_time": "2023-01-29T16:25:21.466446",
     "status": "completed"
    },
    "tags": []
   },
   "outputs": [
    {
     "name": "stdout",
     "output_type": "stream",
     "text": [
      "              precision    recall  f1-score   support\n",
      "\n",
      "           0       0.94      0.97      0.95       583\n",
      "           1       0.95      0.92      0.93       410\n",
      "\n",
      "    accuracy                           0.95       993\n",
      "   macro avg       0.95      0.94      0.94       993\n",
      "weighted avg       0.95      0.95      0.95       993\n",
      "\n"
     ]
    }
   ],
   "source": [
    "print(classification_report(MNBPredict,Y_Test))"
   ]
  }
 ],
 "metadata": {
  "kernelspec": {
   "display_name": "Python 3",
   "language": "python",
   "name": "python3"
  },
  "language_info": {
   "codemirror_mode": {
    "name": "ipython",
    "version": 3
   },
   "file_extension": ".py",
   "mimetype": "text/x-python",
   "name": "python",
   "nbconvert_exporter": "python",
   "pygments_lexer": "ipython3",
   "version": "3.7.12"
  },
  "papermill": {
   "default_parameters": {},
   "duration": 48.79902,
   "end_time": "2023-01-29T16:25:22.628564",
   "environment_variables": {},
   "exception": null,
   "input_path": "__notebook__.ipynb",
   "output_path": "__notebook__.ipynb",
   "parameters": {},
   "start_time": "2023-01-29T16:24:33.829544",
   "version": "2.3.4"
  }
 },
 "nbformat": 4,
 "nbformat_minor": 5
}
